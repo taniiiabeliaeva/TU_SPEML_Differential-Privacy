{
 "cells": [
  {
   "cell_type": "code",
   "execution_count": null,
   "id": "9909c889",
   "metadata": {},
   "outputs": [],
   "source": [
    "import pandas as pd\n",
    "import numpy as np\n",
    "from sklearn.preprocessing import StandardScaler, LabelEncoder, MinMaxScaler\n",
    "from sklearn.model_selection import train_test_split\n",
    "from sklearn.linear_model import LogisticRegression\n",
    "from sklearn.tree import DecisionTreeClassifier\n",
    "from sklearn.metrics import accuracy_score, f1_score\n",
    "import time\n",
    "import matplotlib.pyplot as plt\n",
    "\n",
    "url = \"https://archive.ics.uci.edu/ml/machine-learning-databases/adult/adult.data\"\n",
    "cols = [\"age\", \"workclass\", \"fnlwgt\", \"education\", \"education-num\", \"marital-status\",\n",
    "        \"occupation\", \"relationship\", \"race\", \"sex\", \"capital-gain\", \"capital-loss\",\n",
    "        \"hours-per-week\", \"native-country\", \"income\"]\n",
    "\n",
    "df = pd.read_csv(url, header=None, names=cols, na_values=\" ?\")\n",
    "df.dropna(inplace=True)\n",
    "\n",
    "# Encode categoricals\n",
    "categorical = df.select_dtypes(include='object').columns\n",
    "df[categorical] = df[categorical].apply(LabelEncoder().fit_transform)\n",
    "\n",
    "X = df.drop(\"income\", axis=1)\n",
    "y = df[\"income\"]\n",
    "\n",
    "# Normalize\n",
    "scaler = StandardScaler()\n",
    "X_scaled = scaler.fit_transform(X)\n",
    "\n",
    "x_train, x_test, y_train, y_test = train_test_split(X_scaled, y, test_size=0.2, random_state=42)\n",
    "\n",
    "# For DP trees: scale to [0,1] and save bounds\n",
    "X_minmax = MinMaxScaler().fit_transform(X)\n",
    "x_train_mm, x_test_mm, _, _ = train_test_split(X_minmax, y, test_size=0.2, random_state=42)\n",
    "bounds = [(0, 1)] * X.shape[1]\n",
    "\n",
    "epsilons = [0.01, 0.1, 0.5, 1.0, 5.0, 10.0]"
   ]
  },
  {
   "cell_type": "markdown",
   "id": "038f086d",
   "metadata": {},
   "source": [
    "# Baseline models"
   ]
  },
  {
   "cell_type": "code",
   "execution_count": null,
   "id": "4282e8be",
   "metadata": {},
   "outputs": [],
   "source": [
    "\n",
    "# Logistic Regression\n",
    "start = time.time()\n",
    "baseline_lr = LogisticRegression(max_iter=1000).fit(x_train, y_train)\n",
    "y_pred_lr = baseline_lr.predict(x_test)\n",
    "baseline_acc_lr = accuracy_score(y_test, y_pred_lr)\n",
    "baseline_f1_lr = f1_score(y_test, y_pred_lr)\n",
    "runtime_baseline_lr = time.time() - start"
   ]
  },
  {
   "cell_type": "code",
   "execution_count": null,
   "id": "2845e20f",
   "metadata": {},
   "outputs": [],
   "source": [
    "# Decision Tree\n",
    "start = time.time()\n",
    "baseline_dt = DecisionTreeClassifier().fit(x_train, y_train)\n",
    "y_pred_dt = baseline_dt.predict(x_test)\n",
    "baseline_acc_dt = accuracy_score(y_test, y_pred_dt)\n",
    "baseline_f1_dt = f1_score(y_test, y_pred_dt)\n",
    "runtime_baseline_dt = time.time() - start"
   ]
  },
  {
   "cell_type": "code",
   "execution_count": null,
   "id": "0c427976",
   "metadata": {},
   "outputs": [],
   "source": [
    "print(\"Baseline LR:\", baseline_acc_lr, baseline_f1_lr, runtime_baseline_lr)\n",
    "print(\"Baseline DT:\", baseline_acc_dt, baseline_f1_dt, runtime_baseline_dt)"
   ]
  },
  {
   "cell_type": "markdown",
   "id": "ad210660",
   "metadata": {},
   "source": [
    "# Input Perturbation (Add noise to features)"
   ]
  },
  {
   "cell_type": "code",
   "execution_count": null,
   "id": "ab723d48",
   "metadata": {},
   "outputs": [
    {
     "name": "stdout",
     "output_type": "stream",
     "text": [
      "Input Perturbation Accuracy: 0.7598209845847836\n",
      "F1-score: 0.11158798283261803\n"
     ]
    }
   ],
   "source": [
    "def add_laplace_noise(data, epsilon, sensitivity=1.0):\n",
    "    scale = sensitivity / epsilon\n",
    "    return data + np.random.laplace(loc=0, scale=scale, size=data.shape)\n",
    "\n",
    "acc_input_lr, f1_input_lr, runtime_input_lr = [], [], []\n",
    "acc_input_dt, f1_input_dt, runtime_input_dt = [], [], []\n",
    "\n",
    "for eps in epsilons:\n",
    "    noisy = add_laplace_noise(x_train, eps)\n",
    "\n",
    "    # LR\n",
    "    start = time.time()\n",
    "    lr = LogisticRegression(max_iter=1000).fit(noisy, y_train)\n",
    "    y_pred = lr.predict(x_test)\n",
    "    acc_input_lr.append(accuracy_score(y_test, y_pred))\n",
    "    f1_input_lr.append(f1_score(y_test, y_pred))\n",
    "    runtime_input_lr.append(time.time() - start)\n",
    "\n",
    "    # DT\n",
    "    start = time.time()\n",
    "    dt = DecisionTreeClassifier().fit(noisy, y_train)\n",
    "    y_pred = dt.predict(x_test)\n",
    "    acc_input_dt.append(accuracy_score(y_test, y_pred))\n",
    "    f1_input_dt.append(f1_score(y_test, y_pred))\n",
    "    runtime_input_dt.append(time.time() - start)"
   ]
  },
  {
   "cell_type": "markdown",
   "id": "96100553",
   "metadata": {},
   "source": [
    "#  Internal Perturbation (IBM DP Library)"
   ]
  },
  {
   "cell_type": "code",
   "execution_count": null,
   "id": "4fb528ec",
   "metadata": {},
   "outputs": [
    {
     "ename": "ModuleNotFoundError",
     "evalue": "No module named 'diffprivlib'",
     "output_type": "error",
     "traceback": [
      "\u001b[1;31m---------------------------------------------------------------------------\u001b[0m",
      "\u001b[1;31mModuleNotFoundError\u001b[0m                       Traceback (most recent call last)",
      "Cell \u001b[1;32mIn[4], line 1\u001b[0m\n\u001b[1;32m----> 1\u001b[0m \u001b[38;5;28;01mfrom\u001b[39;00m \u001b[38;5;21;01mdiffprivlib\u001b[39;00m\u001b[38;5;21;01m.\u001b[39;00m\u001b[38;5;21;01mmodels\u001b[39;00m \u001b[38;5;28;01mimport\u001b[39;00m LogisticRegression \u001b[38;5;28;01mas\u001b[39;00m DPLogisticRegression\n\u001b[0;32m      3\u001b[0m dp_model \u001b[38;5;241m=\u001b[39m DPLogisticRegression(epsilon\u001b[38;5;241m=\u001b[39m\u001b[38;5;241m1.0\u001b[39m)\n\u001b[0;32m      4\u001b[0m dp_model\u001b[38;5;241m.\u001b[39mfit(X_train, y_train)\n",
      "\u001b[1;31mModuleNotFoundError\u001b[0m: No module named 'diffprivlib'"
     ]
    }
   ],
   "source": [
    "from diffprivlib.models import LogisticRegression as DPLogReg\n",
    "from diffprivlib.models import DecisionTreeClassifier as DPDecisionTree\n",
    "\n",
    "acc_internal_lr, f1_internal_lr, runtime_internal_lr = [], [], []\n",
    "acc_internal_dt, f1_internal_dt, runtime_internal_dt = [], [], []\n",
    "\n",
    "for eps in epsilons:\n",
    "    # DP Logistic Regression\n",
    "    start = time.time()\n",
    "    dp_lr = DPLogReg(epsilon=eps, data_norm=10.0).fit(x_train, y_train)\n",
    "    y_pred = dp_lr.predict(x_test)\n",
    "    acc_internal_lr.append(accuracy_score(y_test, y_pred))\n",
    "    f1_internal_lr.append(f1_score(y_test, y_pred))\n",
    "    runtime_internal_lr.append(time.time() - start)\n",
    "\n",
    "    # DP Decision Tree\n",
    "    start = time.time()\n",
    "    dp_dt = DPDecisionTree(epsilon=eps, bounds=bounds).fit(x_train_mm, y_train)\n",
    "    y_pred = dp_dt.predict(x_test_mm)\n",
    "    acc_internal_dt.append(accuracy_score(y_test, y_pred))\n",
    "    f1_internal_dt.append(f1_score(y_test, y_pred))\n",
    "    runtime_internal_dt.append(time.time() - start)\n"
   ]
  },
  {
   "cell_type": "markdown",
   "id": "8aba4fa0",
   "metadata": {},
   "source": [
    "# Output Perturbation (Add noise to model parameters)"
   ]
  },
  {
   "cell_type": "code",
   "execution_count": null,
   "id": "ca7f9daa",
   "metadata": {},
   "outputs": [
    {
     "name": "stdout",
     "output_type": "stream",
     "text": [
      "Output Perturbation Accuracy: 0.5995358859605503\n",
      "F1-score: 0.30294287362954414\n"
     ]
    }
   ],
   "source": [
    "def perturb_weights(model, epsilon, sensitivity=1.0):\n",
    "    scale = sensitivity / epsilon\n",
    "    model.coef_ += np.random.laplace(0, scale, model.coef_.shape)\n",
    "    model.intercept_ += np.random.laplace(0, scale, model.intercept_.shape)\n",
    "    return model\n",
    "\n",
    "acc_output_lr, f1_output_lr, runtime_output_lr = [], [], []\n",
    "\n",
    "for eps in epsilons:\n",
    "    start = time.time()\n",
    "    clf = LogisticRegression(max_iter=1000).fit(x_train, y_train)\n",
    "    clf = perturb_weights(clf, epsilon=eps)\n",
    "    y_pred = clf.predict(x_test)\n",
    "    acc_output_lr.append(accuracy_score(y_test, y_pred))\n",
    "    f1_output_lr.append(f1_score(y_test, y_pred))\n",
    "    runtime_output_lr.append(time.time() - start)"
   ]
  },
  {
   "cell_type": "markdown",
   "id": "c2e0ccf9",
   "metadata": {},
   "source": [
    "# Results"
   ]
  },
  {
   "cell_type": "code",
   "execution_count": null,
   "id": "372e873c",
   "metadata": {},
   "outputs": [],
   "source": [
    "\n",
    "results = pd.DataFrame({\n",
    "    \"Epsilon\": epsilons,\n",
    "    \"Input LR Acc\": acc_input_lr,\n",
    "    \"Input LR F1\": f1_input_lr,\n",
    "    \"Input DT Acc\": acc_input_dt,\n",
    "    \"Input DT F1\": f1_input_dt,\n",
    "    \"Internal LR Acc\": acc_internal_lr,\n",
    "    \"Internal LR F1\": f1_internal_lr,\n",
    "    \"Internal DT Acc\": acc_internal_dt,\n",
    "    \"Internal DT F1\": f1_internal_dt,\n",
    "    \"Output LR Acc\": acc_output_lr,\n",
    "    \"Output LR F1\": f1_output_lr\n",
    "})\n",
    "\n",
    "print(results.round(4))"
   ]
  },
  {
   "cell_type": "code",
   "execution_count": null,
   "id": "f0b4446e",
   "metadata": {},
   "outputs": [],
   "source": [
    "# Runtime Table\n",
    "runtime = pd.DataFrame({\n",
    "    \"Epsilon\": epsilons,\n",
    "    \"Runtime Input LR\": runtime_input_lr,\n",
    "    \"Runtime Input DT\": runtime_input_dt,\n",
    "    \"Runtime Internal LR\": runtime_internal_lr,\n",
    "    \"Runtime Internal DT\": runtime_internal_dt,\n",
    "    \"Runtime Output LR\": runtime_output_lr\n",
    "})\n",
    "baseline_runtime_row = pd.DataFrame({\n",
    "    \"Epsilon\": [\"Baseline\"],\n",
    "    \"Runtime Input LR\": [runtime_baseline_lr],\n",
    "    \"Runtime Input DT\": [runtime_baseline_dt],\n",
    "    \"Runtime Internal LR\": [None],\n",
    "    \"Runtime Internal DT\": [None],\n",
    "    \"Runtime Output LR\": [None]\n",
    "})\n",
    "runtime_summary = pd.concat([baseline_runtime_row, runtime], ignore_index=True)\n",
    "print(runtime_summary)"
   ]
  },
  {
   "cell_type": "code",
   "execution_count": null,
   "id": "6cf952b9",
   "metadata": {},
   "outputs": [],
   "source": [
    "# Accuracy Plot\n",
    "plt.figure(figsize=(10, 5))\n",
    "plt.plot(epsilons, acc_input_lr, marker='o', label='Input (LogReg)')\n",
    "plt.plot(epsilons, acc_input_dt, marker='o', label='Input (DT)')\n",
    "plt.plot(epsilons, acc_internal_lr, marker='o', label='Internal (LogReg)')\n",
    "plt.plot(epsilons, acc_internal_dt, marker='o', label='Internal (DT)')\n",
    "plt.plot(epsilons, acc_output_lr, marker='o', label='Output (LogReg)')\n",
    "plt.axhline(baseline_acc_lr, color='black', linestyle='--', label='Baseline (LogReg)')\n",
    "plt.axhline(baseline_acc_dt, color='gray', linestyle='--', label='Baseline (DT)')\n",
    "plt.xlabel(\"ε\")\n",
    "plt.ylabel(\"Accuracy\")\n",
    "plt.title(\"ε vs Accuracy (Adult Dataset)\")\n",
    "plt.legend()\n",
    "plt.grid(True)\n",
    "plt.show()"
   ]
  },
  {
   "cell_type": "code",
   "execution_count": null,
   "id": "50319def",
   "metadata": {},
   "outputs": [],
   "source": [
    "# F1 Score Plot\n",
    "plt.figure(figsize=(10, 5))\n",
    "plt.plot(epsilons, f1_input_lr, marker='o', label='Input (LogReg)')\n",
    "plt.plot(epsilons, f1_input_dt, marker='o', label='Input (DT)')\n",
    "plt.plot(epsilons, f1_internal_lr, marker='o', label='Internal (LogReg)')\n",
    "plt.plot(epsilons, f1_internal_dt, marker='o', label='Internal (DT)')\n",
    "plt.plot(epsilons, f1_output_lr, marker='o', label='Output (LogReg)')\n",
    "plt.axhline(baseline_f1_lr, color='black', linestyle='--', label='Baseline (LogReg)')\n",
    "plt.axhline(baseline_f1_dt, color='gray', linestyle='--', label='Baseline (DT)')\n",
    "plt.xlabel(\"ε\")\n",
    "plt.ylabel(\"F1 Score\")\n",
    "plt.title(\"ε vs F1 Score (Adult Dataset)\")\n",
    "plt.legend()\n",
    "plt.grid(True)\n",
    "plt.show()\n"
   ]
  },
  {
   "cell_type": "code",
   "execution_count": null,
   "id": "a61832ba",
   "metadata": {},
   "outputs": [],
   "source": [
    "# Accuracy Drop\n",
    "acc_drop_input_lr = [baseline_acc_lr - a for a in acc_input_lr]\n",
    "acc_drop_input_dt = [baseline_acc_dt - a for a in acc_input_dt]\n",
    "acc_drop_internal_lr = [baseline_acc_lr - a for a in acc_internal_lr]\n",
    "acc_drop_internal_dt = [baseline_acc_dt - a for a in acc_internal_dt]\n",
    "acc_drop_output_lr = [baseline_acc_lr - a for a in acc_output_lr]\n",
    "\n",
    "# F1 Drop\n",
    "f1_drop_input_lr = [baseline_f1_lr - f for f in f1_input_lr]\n",
    "f1_drop_input_dt = [baseline_f1_dt - f for f in f1_input_dt]\n",
    "f1_drop_internal_lr = [baseline_f1_lr - f for f in f1_internal_lr]\n",
    "f1_drop_internal_dt = [baseline_f1_dt - f for f in f1_internal_dt]\n",
    "f1_drop_output_lr = [baseline_f1_lr - f for f in f1_output_lr]"
   ]
  },
  {
   "cell_type": "code",
   "execution_count": null,
   "id": "e818b83d",
   "metadata": {},
   "outputs": [],
   "source": [
    "# Accuracy Drop Plot\n",
    "plt.figure(figsize=(10, 5))\n",
    "plt.plot(epsilons, acc_drop_input_lr, marker='o', label='Input (LogReg)')\n",
    "plt.plot(epsilons, acc_drop_input_dt, marker='o', label='Input (DT)')\n",
    "plt.plot(epsilons, acc_drop_internal_lr, marker='o', label='Internal (LogReg)')\n",
    "plt.plot(epsilons, acc_drop_internal_dt, marker='o', label='Internal (DT)')\n",
    "plt.plot(epsilons, acc_drop_output_lr, marker='o', label='Output (LogReg)')\n",
    "plt.xlabel(\"ε\")\n",
    "plt.ylabel(\"Accuracy Drop from Baseline\")\n",
    "plt.title(\"Privacy-Utility Tradeoff: Accuracy Drop\")\n",
    "plt.legend()\n",
    "plt.grid(True)\n",
    "plt.show()"
   ]
  },
  {
   "cell_type": "code",
   "execution_count": null,
   "id": "f54f0e6b",
   "metadata": {},
   "outputs": [],
   "source": [
    "# F1 Drop Plot\n",
    "plt.figure(figsize=(10, 5))\n",
    "plt.plot(epsilons, f1_drop_input_lr, marker='o', label='Input (LogReg)')\n",
    "plt.plot(epsilons, f1_drop_input_dt, marker='o', label='Input (DT)')\n",
    "plt.plot(epsilons, f1_drop_internal_lr, marker='o', label='Internal (LogReg)')\n",
    "plt.plot(epsilons, f1_drop_internal_dt, marker='o', label='Internal (DT)')\n",
    "plt.plot(epsilons, f1_drop_output_lr, marker='o', label='Output (LogReg)')\n",
    "plt.xlabel(\"ε\")\n",
    "plt.ylabel(\"F1 Drop from Baseline\")\n",
    "plt.title(\"Privacy-Utility Tradeoff: F1 Score Drop\")\n",
    "plt.legend()\n",
    "plt.grid(True)\n",
    "plt.show()"
   ]
  }
 ],
 "metadata": {
  "kernelspec": {
   "display_name": "Python 3",
   "language": "python",
   "name": "python3"
  },
  "language_info": {
   "codemirror_mode": {
    "name": "ipython",
    "version": 3
   },
   "file_extension": ".py",
   "mimetype": "text/x-python",
   "name": "python",
   "nbconvert_exporter": "python",
   "pygments_lexer": "ipython3",
   "version": "3.11.0"
  }
 },
 "nbformat": 4,
 "nbformat_minor": 5
}
