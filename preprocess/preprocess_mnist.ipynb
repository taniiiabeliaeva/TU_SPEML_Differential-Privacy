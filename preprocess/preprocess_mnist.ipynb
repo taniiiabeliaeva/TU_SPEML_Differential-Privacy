{
 "cells": [
  {
   "cell_type": "code",
   "execution_count": null,
   "id": "53bcbe21",
   "metadata": {},
   "outputs": [],
   "source": [
    "from tensorflow.keras.datasets import mnist\n",
    "from sklearn.model_selection import train_test_split\n",
    "import numpy as np\n",
    "\n",
    "# Load and normalize\n",
    "(x_train, y_train), (x_test, y_test) = mnist.load_data()\n",
    "\n",
    "# Normalize to [0, 1]\n",
    "x_train = x_train.astype(\"float32\") / 255.\n",
    "x_test = x_test.astype(\"float32\") / 255.\n",
    "\n",
    "# Flatten for Logistic Regression\n",
    "x_train_flat = x_train.reshape(-1, 28 * 28)\n",
    "x_test_flat = x_test.reshape(-1, 28 * 28)\n",
    "\n"
   ]
  }
 ],
 "metadata": {
  "kernelspec": {
   "display_name": "Python 3",
   "language": "python",
   "name": "python3"
  },
  "language_info": {
   "name": "python",
   "version": "3.11.0"
  }
 },
 "nbformat": 4,
 "nbformat_minor": 5
}
